{
 "cells": [
  {
   "cell_type": "code",
   "execution_count": null,
   "id": "facial-contact",
   "metadata": {
    "scrolled": false
   },
   "outputs": [],
   "source": [
    "import seaborn as sns\n",
    "import pandas as pd\n",
    "import numpy as np\n",
    "import matplotlib.pyplot as plt\n",
    "\n",
    "df = pd.read_csv('CaseAge.csv')\n",
    "df1 = pd.read_csv('Attached.csv')\n",
    "pd.set_option('display.max_rows', None)\n",
    "sns.set_theme(context='notebook', style='whitegrid')"
   ]
  },
  {
   "cell_type": "code",
   "execution_count": null,
   "id": "durable-qatar",
   "metadata": {},
   "outputs": [],
   "source": [
    "df.mean()"
   ]
  },
  {
   "cell_type": "code",
   "execution_count": null,
   "id": "enhanced-balance",
   "metadata": {},
   "outputs": [],
   "source": [
    "df.median()"
   ]
  },
  {
   "cell_type": "markdown",
   "id": "furnished-zoning",
   "metadata": {},
   "source": [
    "# Sev 1 Attached Cases"
   ]
  },
  {
   "cell_type": "code",
   "execution_count": null,
   "id": "orange-transport",
   "metadata": {
    "scrolled": false
   },
   "outputs": [],
   "source": [
    "plt.plot(df1['Sev Sprint'], df1['Sev 1 Attached'], color='#0c2b3f', marker='o')\n",
    "plt.title('Sev 1 Attached Cases', fontsize=14)\n",
    "plt.ylabel('Attached', fontsize=14)\n",
    "plt.xlabel('Sprint', fontsize=14)\n",
    "plt.xticks(rotation=90)\n",
    "plt.grid(True)\n",
    "plt.show()"
   ]
  },
  {
   "cell_type": "markdown",
   "id": "sporting-domain",
   "metadata": {},
   "source": [
    "# Sev 2 Attached Cases"
   ]
  },
  {
   "cell_type": "code",
   "execution_count": null,
   "id": "jewish-namibia",
   "metadata": {
    "scrolled": false
   },
   "outputs": [],
   "source": [
    "plt.plot(df1['Sev Sprint'], df1['Sev 2 Attached'], color='#0c2b3f', marker='o')\n",
    "plt.title('Sev 2 Attached Cases', fontsize=14)\n",
    "plt.ylabel('Attached', fontsize=14)\n",
    "plt.xlabel('Sprint', fontsize=14)\n",
    "plt.xticks(rotation=90)\n",
    "plt.grid(True)\n",
    "plt.show()"
   ]
  },
  {
   "cell_type": "markdown",
   "id": "appointed-deputy",
   "metadata": {},
   "source": [
    "# Sev 3 Attached Cases"
   ]
  },
  {
   "cell_type": "code",
   "execution_count": null,
   "id": "urban-charm",
   "metadata": {},
   "outputs": [],
   "source": [
    "plt.plot(df1['Sev Sprint'], df1['Sev 3 Attached'], color='#0c2b3f', marker='o')\n",
    "plt.title('Sev 3 Attached Cases', fontsize=14)\n",
    "plt.ylabel('Attached', fontsize=14)\n",
    "plt.xlabel('Sprint', fontsize=14)\n",
    "plt.xticks(rotation=90)\n",
    "plt.grid(True)\n",
    "plt.show()"
   ]
  },
  {
   "cell_type": "markdown",
   "id": "exotic-count",
   "metadata": {},
   "source": [
    "# Sev 4 Attached Cases"
   ]
  },
  {
   "cell_type": "code",
   "execution_count": null,
   "id": "central-experiment",
   "metadata": {
    "scrolled": true
   },
   "outputs": [],
   "source": [
    "plt.plot(df1['Sev Sprint'], df1['Sev 4 Attached'], color='#0c2b3f', marker='o')\n",
    "plt.title('Sev 4 Attached Cases', fontsize=14)\n",
    "plt.ylabel('Attached', fontsize=14)\n",
    "plt.xlabel('Sprint', fontsize=14)\n",
    "plt.xticks(rotation=90)\n",
    "plt.grid(True)\n",
    "plt.show()"
   ]
  },
  {
   "cell_type": "markdown",
   "id": "animal-roads",
   "metadata": {},
   "source": [
    "# Monthly Root Cause Appendixes"
   ]
  },
  {
   "cell_type": "markdown",
   "id": "received-highlight",
   "metadata": {},
   "source": [
    "# Agency Manager\n",
    "#Technology Agency Manager Queue AND Connance PE Queue"
   ]
  },
  {
   "cell_type": "code",
   "execution_count": null,
   "id": "excess-cemetery",
   "metadata": {},
   "outputs": [],
   "source": [
    "sns.boxplot(data=df.filter(regex='Agency Manager S1'), orient='h', linewidth=1, whis=1, color='#ef6d31', showmeans=True, meanprops={\"marker\":\"o\", \"markerfacecolor\":\"white\", \"markeredgecolor\":\"black\", \"markersize\":\"6\"})\n",
    "plt.title('Agency Manager Sev 1', fontsize=14)\n",
    "plt.xlabel('Days Open', fontsize=14)\n",
    "plt.show()\n",
    "sns.boxplot(data=df.filter(regex='Agency Manager S2'), orient='h', linewidth=1, whis=1, color='#ef6d31', showmeans=True, meanprops={\"marker\":\"o\", \"markerfacecolor\":\"white\", \"markeredgecolor\":\"black\", \"markersize\":\"6\"})\n",
    "plt.title('Agency Manager Sev 2', fontsize=14)\n",
    "plt.xlabel('Days Open', fontsize=14)\n",
    "plt.show()\n",
    "sns.boxplot(data=df.filter(regex='Agency Manager S3'), orient='h', linewidth=1, whis=1, color='#ef6d31', showmeans=True, meanprops={\"marker\":\"o\", \"markerfacecolor\":\"white\", \"markeredgecolor\":\"black\", \"markersize\":\"6\"})\n",
    "plt.title('Agency Manager Sev 3', fontsize=14)\n",
    "plt.xlabel('Days Open', fontsize=14)\n",
    "plt.show()\n",
    "sns.boxplot(data=df.filter(regex='Agency Manager S4'), orient='h', linewidth=1, whis=1, color='#ef6d31', showmeans=True, meanprops={\"marker\":\"o\", \"markerfacecolor\":\"white\", \"markeredgecolor\":\"black\", \"markersize\":\"6\"})\n",
    "plt.title('Agency Manager Sev 4', fontsize=14)\n",
    "plt.xlabel('Days Open', fontsize=14)\n",
    "plt.show()"
   ]
  },
  {
   "cell_type": "markdown",
   "id": "digital-chemistry",
   "metadata": {},
   "source": [
    "# Analytics\n",
    "#Technology Analytics Queue"
   ]
  },
  {
   "cell_type": "code",
   "execution_count": null,
   "id": "cutting-customs",
   "metadata": {},
   "outputs": [],
   "source": [
    "sns.boxplot(data=df.filter(regex='Analytics S1'), orient='h', linewidth=1, whis=1, color='#ef6d31', showmeans=True, meanprops={\"marker\":\"o\", \"markerfacecolor\":\"white\", \"markeredgecolor\":\"black\", \"markersize\":\"6\"})\n",
    "plt.title('Analytics Sev 1', fontsize=14)\n",
    "plt.xlabel('Days Open', fontsize=14)\n",
    "plt.show()\n",
    "sns.boxplot(data=df.filter(regex='Analytics S2'), orient='h', linewidth=1, whis=1, color='#ef6d31', showmeans=True, meanprops={\"marker\":\"o\", \"markerfacecolor\":\"white\", \"markeredgecolor\":\"black\", \"markersize\":\"6\"})\n",
    "plt.title('Analytics Sev 2', fontsize=14)\n",
    "plt.xlabel('Days Open', fontsize=14)\n",
    "plt.show()\n",
    "sns.boxplot(data=df.filter(regex='Analytics S3'), orient='h', linewidth=1, whis=1, color='#ef6d31', showmeans=True, meanprops={\"marker\":\"o\", \"markerfacecolor\":\"white\", \"markeredgecolor\":\"black\", \"markersize\":\"6\"})\n",
    "plt.title('Analytics Sev 3', fontsize=14)\n",
    "plt.xlabel('Days Open', fontsize=14)\n",
    "plt.show()\n",
    "sns.boxplot(data=df.filter(regex='Analytics S4'), orient='h', linewidth=1, whis=1, color='#ef6d31', showmeans=True, meanprops={\"marker\":\"o\", \"markerfacecolor\":\"white\", \"markeredgecolor\":\"black\", \"markersize\":\"6\"})\n",
    "plt.title('Analytics Sev 4', fontsize=14)\n",
    "plt.xlabel('Days Open', fontsize=14)\n",
    "plt.show()"
   ]
  },
  {
   "cell_type": "markdown",
   "id": "unknown-protocol",
   "metadata": {},
   "source": [
    "# Architecture\n",
    "#Technology Architecture Queue"
   ]
  },
  {
   "cell_type": "code",
   "execution_count": null,
   "id": "velvet-board",
   "metadata": {},
   "outputs": [],
   "source": [
    "sns.boxplot(data=df.filter(regex='Architecture S1'), orient='h', linewidth=1, whis=1, color='#ef6d31', showmeans=True, meanprops={\"marker\":\"o\", \"markerfacecolor\":\"white\", \"markeredgecolor\":\"black\", \"markersize\":\"6\"})\n",
    "plt.title('Architecture Sev 1', fontsize=14)\n",
    "plt.xlabel('Days Open', fontsize=14)\n",
    "plt.show()\n",
    "sns.boxplot(data=df.filter(regex='Architecture S2'), orient='h', linewidth=1, whis=1, color='#ef6d31', showmeans=True, meanprops={\"marker\":\"o\", \"markerfacecolor\":\"white\", \"markeredgecolor\":\"black\", \"markersize\":\"6\"})\n",
    "plt.title('Architecture Sev 2', fontsize=14)\n",
    "plt.xlabel('Days Open', fontsize=14)\n",
    "plt.show()\n",
    "sns.boxplot(data=df.filter(regex='Architecture S3'), orient='h', linewidth=1, whis=1, color='#ef6d31', showmeans=True, meanprops={\"marker\":\"o\", \"markerfacecolor\":\"white\", \"markeredgecolor\":\"black\", \"markersize\":\"6\"})\n",
    "plt.title('Architecture Sev 3', fontsize=14)\n",
    "plt.xlabel('Days Open', fontsize=14)\n",
    "plt.show()\n",
    "sns.boxplot(data=df.filter(regex='Architecture S4'), orient='h', linewidth=1, whis=1, color='#ef6d31', showmeans=True, meanprops={\"marker\":\"o\", \"markerfacecolor\":\"white\", \"markeredgecolor\":\"black\", \"markersize\":\"6\"})\n",
    "plt.title('Architecture Sev 4', fontsize=14)\n",
    "plt.xlabel('Days Open', fontsize=14)\n",
    "plt.show()\n"
   ]
  },
  {
   "cell_type": "markdown",
   "id": "another-tradition",
   "metadata": {},
   "source": [
    "# Charge Integrity\n",
    "#Technology Charge Integrity Queue"
   ]
  },
  {
   "cell_type": "code",
   "execution_count": null,
   "id": "alpha-universal",
   "metadata": {
    "scrolled": false
   },
   "outputs": [],
   "source": [
    "sns.boxplot(data=df.filter(regex='Integrity S1'), orient='h', linewidth=1, whis=1, color='#ef6d31', showmeans=True, meanprops={\"marker\":\"o\", \"markerfacecolor\":\"white\", \"markeredgecolor\":\"black\", \"markersize\":\"6\"})\n",
    "plt.title('Charge Integrity Sev 1', fontsize=14)\n",
    "plt.xlabel('Days Open', fontsize=14)\n",
    "plt.show()\n",
    "sns.boxplot(data=df.filter(regex='Integrity S2'), orient='h', linewidth=1, whis=1, color='#ef6d31', showmeans=True, meanprops={\"marker\":\"o\", \"markerfacecolor\":\"white\", \"markeredgecolor\":\"black\", \"markersize\":\"6\"})\n",
    "plt.title('Charge Integrity Sev 2', fontsize=14)\n",
    "plt.xlabel('Days Open', fontsize=14)\n",
    "plt.show()\n",
    "sns.boxplot(data=df.filter(regex='Integrity S3'), orient='h', linewidth=1, whis=1, color='#ef6d31', showmeans=True, meanprops={\"marker\":\"o\", \"markerfacecolor\":\"white\", \"markeredgecolor\":\"black\", \"markersize\":\"6\"})\n",
    "plt.title('Charge Integrity Sev 3', fontsize=14)\n",
    "plt.xlabel('Days Open', fontsize=14)\n",
    "plt.show()\n",
    "sns.boxplot(data=df.filter(regex='Integrity S4'), orient='h', linewidth=1, whis=1, color='#ef6d31', showmeans=True, meanprops={\"marker\":\"o\", \"markerfacecolor\":\"white\", \"markeredgecolor\":\"black\", \"markersize\":\"6\"})\n",
    "plt.title('Charge Integrity Sev 4', fontsize=14)\n",
    "plt.xlabel('Days Open', fontsize=14)\n",
    "plt.show()"
   ]
  },
  {
   "cell_type": "markdown",
   "id": "understanding-means",
   "metadata": {},
   "source": [
    "# Claims\n",
    "#Technology Claims Queue"
   ]
  },
  {
   "cell_type": "code",
   "execution_count": null,
   "id": "emotional-benjamin",
   "metadata": {},
   "outputs": [],
   "source": [
    "sns.boxplot(data=df.filter(regex='Claims S1'), orient='h', linewidth=1, whis=1, color='#ef6d31', showmeans=True, meanprops={\"marker\":\"o\", \"markerfacecolor\":\"white\", \"markeredgecolor\":\"black\", \"markersize\":\"6\"})\n",
    "plt.title('Claims Sev 1', fontsize=14)\n",
    "plt.xlabel('Days Open', fontsize=14)\n",
    "plt.show()\n",
    "sns.boxplot(data=df.filter(regex='Claims S2'), orient='h', linewidth=1, whis=1, color='#ef6d31', showmeans=True, meanprops={\"marker\":\"o\", \"markerfacecolor\":\"white\", \"markeredgecolor\":\"black\", \"markersize\":\"6\"})\n",
    "plt.title('Claims Sev 2', fontsize=14)\n",
    "plt.xlabel('Days Open', fontsize=14)\n",
    "plt.show()\n",
    "sns.boxplot(data=df.filter(regex='Claims S3'), orient='h', linewidth=1, whis=1, color='#ef6d31', showmeans=True, meanprops={\"marker\":\"o\", \"markerfacecolor\":\"white\", \"markeredgecolor\":\"black\", \"markersize\":\"6\"})\n",
    "plt.title('Claims Sev 3', fontsize=14)\n",
    "plt.xlabel('Days Open', fontsize=14)\n",
    "plt.show()\n",
    "sns.boxplot(data=df.filter(regex='Claims S4'), orient='h', linewidth=1, whis=1, color='#ef6d31', showmeans=True, meanprops={\"marker\":\"o\", \"markerfacecolor\":\"white\", \"markeredgecolor\":\"black\", \"markersize\":\"6\"})\n",
    "plt.title('Claims Sev 4', fontsize=14)\n",
    "plt.xlabel('Days Open', fontsize=14)\n",
    "plt.show()"
   ]
  },
  {
   "cell_type": "markdown",
   "id": "undefined-webmaster",
   "metadata": {},
   "source": [
    "# Contract Management\n",
    "#Technology Contract Management Queue"
   ]
  },
  {
   "cell_type": "code",
   "execution_count": null,
   "id": "asian-collar",
   "metadata": {},
   "outputs": [],
   "source": [
    "sns.boxplot(data=df.filter(regex='Contract Management S1'), orient='h', linewidth=1, whis=1, color='#ef6d31', showmeans=True, meanprops={\"marker\":\"o\", \"markerfacecolor\":\"white\", \"markeredgecolor\":\"black\", \"markersize\":\"6\"})\n",
    "plt.title('Contract Management Sev 1', fontsize=14)\n",
    "plt.xlabel('Days Open', fontsize=14)\n",
    "plt.show()\n",
    "sns.boxplot(data=df.filter(regex='Contract Management S2'), orient='h', linewidth=1, whis=1, color='#ef6d31', showmeans=True, meanprops={\"marker\":\"o\", \"markerfacecolor\":\"white\", \"markeredgecolor\":\"black\", \"markersize\":\"6\"})\n",
    "plt.title('Contract Management Sev 2', fontsize=14)\n",
    "plt.xlabel('Days Open', fontsize=14)\n",
    "plt.show()\n",
    "sns.boxplot(data=df.filter(regex='Contract Management S3'), orient='h', linewidth=1, whis=1, color='#ef6d31', showmeans=True, meanprops={\"marker\":\"o\", \"markerfacecolor\":\"white\", \"markeredgecolor\":\"black\", \"markersize\":\"6\"})\n",
    "plt.title('Contract Management Sev 3', fontsize=14)\n",
    "plt.xlabel('Days Open', fontsize=14)\n",
    "plt.show()\n",
    "sns.boxplot(data=df.filter(regex='Contract Management S4'), orient='h', linewidth=1, whis=1, color='#ef6d31', showmeans=True, meanprops={\"marker\":\"o\", \"markerfacecolor\":\"white\", \"markeredgecolor\":\"black\", \"markersize\":\"6\"})\n",
    "plt.title('Contract Management Sev 4', fontsize=14)\n",
    "plt.xlabel('Days Open', fontsize=14)\n",
    "plt.show()"
   ]
  },
  {
   "cell_type": "markdown",
   "id": "general-inventory",
   "metadata": {},
   "source": [
    "# Coverage Detection\n",
    "#Technology Coverage Detection Queue"
   ]
  },
  {
   "cell_type": "code",
   "execution_count": null,
   "id": "intelligent-bishop",
   "metadata": {},
   "outputs": [],
   "source": [
    "sns.boxplot(data=df.filter(regex='Coverage Detection S1'), orient='h', linewidth=1, whis=1, color='#ef6d31', showmeans=True, meanprops={\"marker\":\"o\", \"markerfacecolor\":\"white\", \"markeredgecolor\":\"black\", \"markersize\":\"6\"})\n",
    "plt.title('Coverage Detection Sev 1', fontsize=14)\n",
    "plt.xlabel('Days Open', fontsize=14)\n",
    "plt.show()\n",
    "sns.boxplot(data=df.filter(regex='Coverage Detection S2'), orient='h', linewidth=1, whis=1, color='#ef6d31', showmeans=True, meanprops={\"marker\":\"o\", \"markerfacecolor\":\"white\", \"markeredgecolor\":\"black\", \"markersize\":\"6\"})\n",
    "plt.title('Coverage Detection Sev 2', fontsize=14)\n",
    "plt.xlabel('Days Open', fontsize=14)\n",
    "plt.show()\n",
    "sns.boxplot(data=df.filter(regex='Coverage Detection S3'), orient='h', linewidth=1, whis=1, color='#ef6d31', showmeans=True, meanprops={\"marker\":\"o\", \"markerfacecolor\":\"white\", \"markeredgecolor\":\"black\", \"markersize\":\"6\"})\n",
    "plt.title('Coverage Detection Sev 3', fontsize=14)\n",
    "plt.xlabel('Days Open', fontsize=14)\n",
    "plt.show()\n",
    "sns.boxplot(data=df.filter(regex='Coverage Detection S4'), orient='h', linewidth=1, whis=1, color='#ef6d31', showmeans=True, meanprops={\"marker\":\"o\", \"markerfacecolor\":\"white\", \"markeredgecolor\":\"black\", \"markersize\":\"6\"})\n",
    "plt.title('Coverage Detection Sev 4', fontsize=14)\n",
    "plt.xlabel('Days Open', fontsize=14)\n",
    "plt.show()"
   ]
  },
  {
   "cell_type": "markdown",
   "id": "civil-louisville",
   "metadata": {},
   "source": [
    "# Denial Management\n",
    "#Technology Denial Management Queue"
   ]
  },
  {
   "cell_type": "code",
   "execution_count": null,
   "id": "ordinary-china",
   "metadata": {},
   "outputs": [],
   "source": [
    "sns.boxplot(data=df.filter(regex='Denial Management S1'), orient='h', linewidth=1, whis=1, color='#ef6d31', showmeans=True, meanprops={\"marker\":\"o\", \"markerfacecolor\":\"white\", \"markeredgecolor\":\"black\", \"markersize\":\"6\"})\n",
    "plt.title('Denial Management Sev 1', fontsize=14)\n",
    "plt.xlabel('Days Open', fontsize=14)\n",
    "plt.show()\n",
    "sns.boxplot(data=df.filter(regex='Denial Management S2'), orient='h', linewidth=1, whis=1, color='#ef6d31', showmeans=True, meanprops={\"marker\":\"o\", \"markerfacecolor\":\"white\", \"markeredgecolor\":\"black\", \"markersize\":\"6\"})\n",
    "plt.title('Denial Management Sev 2', fontsize=14)\n",
    "plt.xlabel('Days Open', fontsize=14)\n",
    "plt.show()\n",
    "sns.boxplot(data=df.filter(regex='Denial Management S3'), orient='h', linewidth=1, whis=1, color='#ef6d31', showmeans=True, meanprops={\"marker\":\"o\", \"markerfacecolor\":\"white\", \"markeredgecolor\":\"black\", \"markersize\":\"6\"})\n",
    "plt.title('Denial Management Sev 3', fontsize=14)\n",
    "plt.xlabel('Days Open', fontsize=14)\n",
    "plt.show()\n",
    "sns.boxplot(data=df.filter(regex='Denial Management S4'), orient='h', linewidth=1, whis=1, color='#ef6d31', showmeans=True, meanprops={\"marker\":\"o\", \"markerfacecolor\":\"white\", \"markeredgecolor\":\"black\", \"markersize\":\"6\"})\n",
    "plt.title('Denial Management Sev 4', fontsize=14)\n",
    "plt.xlabel('Days Open', fontsize=14)\n",
    "plt.show()\n"
   ]
  },
  {
   "cell_type": "markdown",
   "id": "convenient-coach",
   "metadata": {},
   "source": [
    "# Eligibility\n",
    "#Technology Eligibility Queue"
   ]
  },
  {
   "cell_type": "code",
   "execution_count": null,
   "id": "personalized-model",
   "metadata": {},
   "outputs": [],
   "source": [
    "sns.boxplot(data=df.filter(regex='Eligibility S1'), orient='h', linewidth=1, whis=1, color='#ef6d31', showmeans=True, meanprops={\"marker\":\"o\", \"markerfacecolor\":\"white\", \"markeredgecolor\":\"black\", \"markersize\":\"6\"})\n",
    "plt.title('Eligibility Sev 1', fontsize=14)\n",
    "plt.xlabel('Days Open', fontsize=14)\n",
    "plt.show()\n",
    "sns.boxplot(data=df.filter(regex='Eligibility S2'), orient='h', linewidth=1, whis=1, color='#ef6d31', showmeans=True, meanprops={\"marker\":\"o\", \"markerfacecolor\":\"white\", \"markeredgecolor\":\"black\", \"markersize\":\"6\"})\n",
    "plt.title('Eligibility Sev 2', fontsize=14)\n",
    "plt.xlabel('Days Open', fontsize=14)\n",
    "plt.show()\n",
    "sns.boxplot(data=df.filter(regex='Eligibility S3'), orient='h', linewidth=1, whis=1, color='#ef6d31', showmeans=True, meanprops={\"marker\":\"o\", \"markerfacecolor\":\"white\", \"markeredgecolor\":\"black\", \"markersize\":\"6\"})\n",
    "plt.title('Eligibility Sev 3', fontsize=14)\n",
    "plt.xlabel('Days Open', fontsize=14)\n",
    "plt.show()\n",
    "sns.boxplot(data=df.filter(regex='Eligibility S4'), orient='h', linewidth=1, whis=1, color='#ef6d31', showmeans=True, meanprops={\"marker\":\"o\", \"markerfacecolor\":\"white\", \"markeredgecolor\":\"black\", \"markersize\":\"6\"})\n",
    "plt.title('Eligibility Sev 4', fontsize=14)\n",
    "plt.xlabel('Days Open', fontsize=14)\n",
    "plt.show()"
   ]
  },
  {
   "cell_type": "markdown",
   "id": "dimensional-sword",
   "metadata": {},
   "source": [
    "# Estimation\n",
    "#Technology Estimation Queue"
   ]
  },
  {
   "cell_type": "code",
   "execution_count": null,
   "id": "advisory-priority",
   "metadata": {},
   "outputs": [],
   "source": [
    "sns.boxplot(data=df.filter(regex='Estimation S1'), orient='h', linewidth=1, whis=1, color='#ef6d31', showmeans=True, meanprops={\"marker\":\"o\", \"markerfacecolor\":\"white\", \"markeredgecolor\":\"black\", \"markersize\":\"6\"})\n",
    "plt.title('Estimation Sev 1', fontsize=14)\n",
    "plt.xlabel('Days Open', fontsize=14)\n",
    "plt.show()\n",
    "sns.boxplot(data=df.filter(regex='Estimation S2'), orient='h', linewidth=1, whis=1, color='#ef6d31', showmeans=True, meanprops={\"marker\":\"o\", \"markerfacecolor\":\"white\", \"markeredgecolor\":\"black\", \"markersize\":\"6\"})\n",
    "plt.title('Estimation Sev 2', fontsize=14)\n",
    "plt.xlabel('Days Open', fontsize=14)\n",
    "plt.show()\n",
    "sns.boxplot(data=df.filter(regex='Estimation S3'), orient='h', linewidth=1, whis=1, color='#ef6d31', showmeans=True, meanprops={\"marker\":\"o\", \"markerfacecolor\":\"white\", \"markeredgecolor\":\"black\", \"markersize\":\"6\"})\n",
    "plt.title('Estimation Sev 3', fontsize=14)\n",
    "plt.xlabel('Days Open', fontsize=14)\n",
    "plt.show()\n",
    "sns.boxplot(data=df.filter(regex='Estimation S4'), orient='h', linewidth=1, whis=1, color='#ef6d31', showmeans=True, meanprops={\"marker\":\"o\", \"markerfacecolor\":\"white\", \"markeredgecolor\":\"black\", \"markersize\":\"6\"})\n",
    "plt.title('Estimation Sev 4', fontsize=14)\n",
    "plt.xlabel('Days Open', fontsize=14)\n",
    "plt.show()"
   ]
  },
  {
   "cell_type": "markdown",
   "id": "signed-firmware",
   "metadata": {},
   "source": [
    "# Infrastructure\n",
    "#Technology Infrastructure Queue"
   ]
  },
  {
   "cell_type": "code",
   "execution_count": null,
   "id": "neural-browse",
   "metadata": {},
   "outputs": [],
   "source": [
    "sns.boxplot(data=df.filter(regex='Infrastructure S1'), orient='h', linewidth=1, whis=1, color='#ef6d31', showmeans=True, meanprops={\"marker\":\"o\", \"markerfacecolor\":\"white\", \"markeredgecolor\":\"black\", \"markersize\":\"6\"})\n",
    "plt.title('Infrastructure Sev 1', fontsize=14)\n",
    "plt.xlabel('Days Open', fontsize=14)\n",
    "plt.show()\n",
    "sns.boxplot(data=df.filter(regex='Infrastructure S2'), orient='h', linewidth=1, whis=1, color='#ef6d31', showmeans=True, meanprops={\"marker\":\"o\", \"markerfacecolor\":\"white\", \"markeredgecolor\":\"black\", \"markersize\":\"6\"})\n",
    "plt.title('Infrastructure Sev 2', fontsize=14)\n",
    "plt.xlabel('Days Open', fontsize=14)\n",
    "plt.show()\n",
    "sns.boxplot(data=df.filter(regex='Infrastructure S3'), orient='h', linewidth=1, whis=1, color='#ef6d31', showmeans=True, meanprops={\"marker\":\"o\", \"markerfacecolor\":\"white\", \"markeredgecolor\":\"black\", \"markersize\":\"6\"})\n",
    "plt.title('Infrastructure Sev 3', fontsize=14)\n",
    "plt.xlabel('Days Open', fontsize=14)\n",
    "plt.show()\n",
    "sns.boxplot(data=df.filter(regex='Infrastructure S4'), orient='h', linewidth=1, whis=1, color='#ef6d31', showmeans=True, meanprops={\"marker\":\"o\", \"markerfacecolor\":\"white\", \"markeredgecolor\":\"black\", \"markersize\":\"6\"})\n",
    "plt.title('Infrastructure Sev 4', fontsize=14)\n",
    "plt.xlabel('Days Open', fontsize=14)\n",
    "plt.show()"
   ]
  },
  {
   "cell_type": "markdown",
   "id": "detected-geneva",
   "metadata": {},
   "source": [
    "# Internal\n",
    "#Technology Internal Queue"
   ]
  },
  {
   "cell_type": "code",
   "execution_count": null,
   "id": "spectacular-staff",
   "metadata": {},
   "outputs": [],
   "source": [
    "sns.boxplot(data=df.filter(regex='Internal S1'), orient='h', linewidth=1, whis=1, color='#ef6d31', showmeans=True, meanprops={\"marker\":\"o\", \"markerfacecolor\":\"white\", \"markeredgecolor\":\"black\", \"markersize\":\"6\"})\n",
    "plt.title('Internal Sev 1', fontsize=14)\n",
    "plt.xlabel('Days Open', fontsize=14)\n",
    "plt.show()\n",
    "sns.boxplot(data=df.filter(regex='Internal S2'), orient='h', linewidth=1, whis=1, color='#ef6d31', showmeans=True, meanprops={\"marker\":\"o\", \"markerfacecolor\":\"white\", \"markeredgecolor\":\"black\", \"markersize\":\"6\"})\n",
    "plt.title('Internal Sev 2', fontsize=14)\n",
    "plt.xlabel('Days Open', fontsize=14)\n",
    "plt.show()\n",
    "sns.boxplot(data=df.filter(regex='Internal S3'), orient='h', linewidth=1, whis=1, color='#ef6d31', showmeans=True, meanprops={\"marker\":\"o\", \"markerfacecolor\":\"white\", \"markeredgecolor\":\"black\", \"markersize\":\"6\"})\n",
    "plt.title('Internal Sev 3', fontsize=14)\n",
    "plt.xlabel('Days Open', fontsize=14)\n",
    "plt.show()\n",
    "sns.boxplot(data=df.filter(regex='Internal S4'), orient='h', linewidth=1, whis=1, color='#ef6d31', showmeans=True, meanprops={\"marker\":\"o\", \"markerfacecolor\":\"white\", \"markeredgecolor\":\"black\", \"markersize\":\"6\"})\n",
    "plt.title('Internal Sev 4', fontsize=14)\n",
    "plt.xlabel('Days Open', fontsize=14)\n",
    "plt.show()"
   ]
  },
  {
   "cell_type": "markdown",
   "id": "cloudy-camcorder",
   "metadata": {},
   "source": [
    "# Patient Payments\n",
    "#Technology Patient Payments Queue\n",
    "#Includes print services, patient notebook and patient payments"
   ]
  },
  {
   "cell_type": "code",
   "execution_count": null,
   "id": "confidential-paste",
   "metadata": {},
   "outputs": [],
   "source": [
    "sns.boxplot(data=df.filter(regex='Payments S1'), orient='h', linewidth=1, whis=1, color='#ef6d31', showmeans=True, meanprops={\"marker\":\"o\", \"markerfacecolor\":\"white\", \"markeredgecolor\":\"black\", \"markersize\":\"6\"})\n",
    "plt.title('Patient Payments Sev 1', fontsize=14)\n",
    "plt.xlabel('Days Open', fontsize=14)\n",
    "plt.show()\n",
    "sns.boxplot(data=df.filter(regex='Payments S2'), orient='h', linewidth=1, whis=1, color='#ef6d31', showmeans=True, meanprops={\"marker\":\"o\", \"markerfacecolor\":\"white\", \"markeredgecolor\":\"black\", \"markersize\":\"6\"})\n",
    "plt.title('Patient Payments Sev 2', fontsize=14)\n",
    "plt.xlabel('Days Open', fontsize=14)\n",
    "plt.show()\n",
    "sns.boxplot(data=df.filter(regex='Payments S3'), orient='h', linewidth=1, whis=1, color='#ef6d31', showmeans=True, meanprops={\"marker\":\"o\", \"markerfacecolor\":\"white\", \"markeredgecolor\":\"black\", \"markersize\":\"6\"})\n",
    "plt.title('Patient Payments Sev 3', fontsize=14)\n",
    "plt.xlabel('Days Open', fontsize=14)\n",
    "plt.show()\n",
    "sns.boxplot(data=df.filter(regex='Payments S4'), orient='h', linewidth=1, whis=1, color='#ef6d31', showmeans=True, meanprops={\"marker\":\"o\", \"markerfacecolor\":\"white\", \"markeredgecolor\":\"black\", \"markersize\":\"6\"})\n",
    "plt.title('Patient Payments Sev 4', fontsize=14)\n",
    "plt.xlabel('Days Open', fontsize=14)\n",
    "plt.show()"
   ]
  },
  {
   "cell_type": "markdown",
   "id": "rational-narrative",
   "metadata": {},
   "source": [
    "# Remits\n",
    "#Technology Remits Queue"
   ]
  },
  {
   "cell_type": "code",
   "execution_count": null,
   "id": "future-electricity",
   "metadata": {},
   "outputs": [],
   "source": [
    "sns.boxplot(data=df.filter(regex='Remits S1'), orient='h', linewidth=1, whis=1, color='#ef6d31', showmeans=True, meanprops={\"marker\":\"o\", \"markerfacecolor\":\"white\", \"markeredgecolor\":\"black\", \"markersize\":\"6\"})\n",
    "plt.title('Remits Sev 1', fontsize=14)\n",
    "plt.xlabel('Days Open', fontsize=14)\n",
    "plt.show()\n",
    "sns.boxplot(data=df.filter(regex='Remits S2'), orient='h', linewidth=1, whis=1, color='#ef6d31', showmeans=True, meanprops={\"marker\":\"o\", \"markerfacecolor\":\"white\", \"markeredgecolor\":\"black\", \"markersize\":\"6\"})\n",
    "plt.title('Remits Sev 2', fontsize=14)\n",
    "plt.xlabel('Days Open', fontsize=14)\n",
    "plt.show()\n",
    "sns.boxplot(data=df.filter(regex='Remits S3'), orient='h', linewidth=1, whis=1, color='#ef6d31', showmeans=True, meanprops={\"marker\":\"o\", \"markerfacecolor\":\"white\", \"markeredgecolor\":\"black\", \"markersize\":\"6\"})\n",
    "plt.title('Remits Sev 3', fontsize=14)\n",
    "plt.xlabel('Days Open', fontsize=14)\n",
    "plt.show()\n",
    "sns.boxplot(data=df.filter(regex='Remits S4'), orient='h', linewidth=1, whis=1, color='#ef6d31', showmeans=True, meanprops={\"marker\":\"o\", \"markerfacecolor\":\"white\", \"markeredgecolor\":\"black\", \"markersize\":\"6\"})\n",
    "plt.title('Remits Sev 4', fontsize=14)\n",
    "plt.xlabel('Days Open', fontsize=14)\n",
    "plt.show()"
   ]
  },
  {
   "cell_type": "markdown",
   "id": "fewer-calculation",
   "metadata": {},
   "source": [
    "# All Teams"
   ]
  },
  {
   "cell_type": "code",
   "execution_count": null,
   "id": "inappropriate-rouge",
   "metadata": {},
   "outputs": [],
   "source": [
    "sns.boxplot(data=df.filter(regex='All S1'), orient='h', linewidth=1, whis=1, color='#ef6d31', showmeans=True, meanprops={\"marker\":\"o\", \"markerfacecolor\":\"white\", \"markeredgecolor\":\"black\", \"markersize\":\"6\"})\n",
    "plt.title('All Sev 1', fontsize=14)\n",
    "plt.xlabel('Days Open', fontsize=14)\n",
    "plt.show()\n",
    "sns.boxplot(data=df.filter(regex='All S2'), orient='h', linewidth=1, whis=1, color='#ef6d31', showmeans=True, meanprops={\"marker\":\"o\", \"markerfacecolor\":\"white\", \"markeredgecolor\":\"black\", \"markersize\":\"6\"})\n",
    "plt.title('All Sev 2', fontsize=14)\n",
    "plt.xlabel('Days Open', fontsize=14)\n",
    "plt.show()\n",
    "sns.boxplot(data=df.filter(regex='All S3'), orient='h', linewidth=1, whis=1, color='#ef6d31', showmeans=True, meanprops={\"marker\":\"o\", \"markerfacecolor\":\"white\", \"markeredgecolor\":\"black\", \"markersize\":\"6\"})\n",
    "plt.title('All Sev 3', fontsize=14)\n",
    "plt.xlabel('Days Open', fontsize=14)\n",
    "plt.show()\n",
    "sns.boxplot(data=df.filter(regex='All S4'), orient='h', linewidth=1, whis=1, color='#ef6d31', showmeans=True, meanprops={\"marker\":\"o\", \"markerfacecolor\":\"white\", \"markeredgecolor\":\"black\", \"markersize\":\"6\"})\n",
    "plt.title('All Sev 4', fontsize=14)\n",
    "plt.xlabel('Days Open', fontsize=14)\n",
    "plt.show()"
   ]
  }
 ],
 "metadata": {
  "kernelspec": {
   "display_name": "Python 3",
   "language": "python",
   "name": "python3"
  },
  "language_info": {
   "codemirror_mode": {
    "name": "ipython",
    "version": 3
   },
   "file_extension": ".py",
   "mimetype": "text/x-python",
   "name": "python",
   "nbconvert_exporter": "python",
   "pygments_lexer": "ipython3",
   "version": "3.9.2"
  }
 },
 "nbformat": 4,
 "nbformat_minor": 5
}
